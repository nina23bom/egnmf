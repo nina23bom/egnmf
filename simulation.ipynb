{
 "cells": [
  {
   "cell_type": "markdown",
   "metadata": {},
   "source": [
    "# Simulation\n",
    "\n",
    "- CPU: Intel (R) Pentium (R) CPU G3258\n",
    "- Memory: 2GB\n",
    "- OS: Ubuntu 18.04 LTS 64bit"
   ]
  },
  {
   "cell_type": "code",
   "execution_count": 1,
   "metadata": {},
   "outputs": [],
   "source": [
    "import numpy as np\n",
    "import matplotlib.pyplot as plt\n",
    "from sklearn.datasets import load_digits\n",
    "from sklearn.cluster import KMeans, SpectralClustering\n",
    "from sklearn.decomposition import PCA, NMF\n",
    "from sklearn.preprocessing import Normalizer"
   ]
  },
  {
   "cell_type": "code",
   "execution_count": 2,
   "metadata": {},
   "outputs": [],
   "source": [
    "from egnmf.gnmf import GNMF\n",
    "from egnmf.egnmf import EGNMF\n",
    "from egnmf.metrics import calc_ac_score, calc_nmi_score"
   ]
  },
  {
   "cell_type": "markdown",
   "metadata": {},
   "source": [
    "Input \n",
    "----"
   ]
  },
  {
   "cell_type": "code",
   "execution_count": 3,
   "metadata": {},
   "outputs": [],
   "source": [
    "digits = load_digits()\n",
    "X_digits = digits['data']\n",
    "y_digits = digits['target']\n",
    "cls_digits = len(np.unique(y_digits))"
   ]
  },
  {
   "cell_type": "markdown",
   "metadata": {},
   "source": [
    "Normalization\n",
    "----"
   ]
  },
  {
   "cell_type": "code",
   "execution_count": 4,
   "metadata": {},
   "outputs": [],
   "source": [
    "scaler = Normalizer()\n",
    "X_digits = scaler.fit_transform(X_digits)"
   ]
  },
  {
   "cell_type": "markdown",
   "metadata": {},
   "source": [
    "Fitting\n",
    "----"
   ]
  },
  {
   "cell_type": "code",
   "execution_count": 5,
   "metadata": {},
   "outputs": [],
   "source": [
    "kmeans = KMeans(n_clusters=cls_digits, random_state=0)\n",
    "sc = SpectralClustering(n_clusters=cls_digits, random_state=0)\n",
    "pca = PCA(n_components=cls_digits, random_state=0)\n",
    "nmf = NMF(n_components=cls_digits, random_state=0, max_iter=500)\n",
    "gnmf = GNMF(n_components=cls_digits, random_state=0)\n",
    "egnmf = EGNMF(n_clusters=cls_digits, random_state=0)"
   ]
  },
  {
   "cell_type": "code",
   "execution_count": 6,
   "metadata": {},
   "outputs": [
    {
     "name": "stderr",
     "output_type": "stream",
     "text": [
      "/Users/tsano/.pyenv/versions/3.8.7/lib/python3.8/site-packages/sklearn/decomposition/_nmf.py:312: FutureWarning: The 'init' value, when 'init=None' and n_components is less than n_samples and n_features, will be changed from 'nndsvd' to 'nndsvda' in 1.1 (renaming of 0.26).\n",
      "  warnings.warn((\"The 'init' value, when 'init=None' and \"\n"
     ]
    }
   ],
   "source": [
    "labels = {}\n",
    "\n",
    "# KMeans\n",
    "labels['KMeans'] = kmeans.fit(X_digits).labels_\n",
    "\n",
    "# Spectral Clustering\n",
    "labels['SC'] = sc.fit(X_digits).labels_\n",
    "\n",
    "# PCA + KMeans\n",
    "X_pca = pca.fit_transform(X_digits)\n",
    "labels['PCA'] = kmeans.fit(X_pca).labels_\n",
    "\n",
    "# NMF + KMeans\n",
    "X_nmf = nmf.fit_transform(X_digits)\n",
    "labels['NMF'] = kmeans.fit(X_nmf).labels_\n",
    "\n",
    "# GNMF + KMeans\n",
    "X_gnmf = gnmf.fit(X_digits).get_coef()\n",
    "labels['GNMF'] = kmeans.fit(X_gnmf).labels_\n",
    "\n",
    "# EGNMF\n",
    "labels['EGNMF'] = egnmf.fit(X_digits).labels_"
   ]
  },
  {
   "cell_type": "markdown",
   "metadata": {},
   "source": [
    "Evaluation\n",
    "----"
   ]
  },
  {
   "cell_type": "code",
   "execution_count": 7,
   "metadata": {},
   "outputs": [],
   "source": [
    "algorithms = ['KMeans', 'SC', 'PCA', 'NMF', 'GNMF', 'EGNMF']\n",
    "acs = []\n",
    "nmis = []\n",
    "\n",
    "for algorithm in algorithms:\n",
    "    acs.append(calc_ac_score(y_digits, labels[algorithm]) * 100)\n",
    "    nmis.append(calc_nmi_score(y_digits, labels[algorithm]) * 100)"
   ]
  },
  {
   "cell_type": "code",
   "execution_count": 8,
   "metadata": {},
   "outputs": [
    {
     "data": {
      "image/png": "[encoded data removed]",
      "text/plain": [
       "<Figure size 432x288 with 1 Axes>"
      ]
     },
     "metadata": {
      "needs_background": "light"
     },
     "output_type": "display_data"
    }
   ],
   "source": [
    "%matplotlib inline\n",
    "\n",
    "plt.bar(algorithms, acs)\n",
    "plt.ylabel(\"Accuracy (%)\", fontsize=14)\n",
    "plt.tick_params(labelsize=14)\n",
    "plt.show()"
   ]
  },
  {
   "cell_type": "code",
   "execution_count": 9,
   "metadata": {},
   "outputs": [
    {
     "data": {
      "image/png": "[encoded data removed]",
      "text/plain": [
       "<Figure size 432x288 with 1 Axes>"
      ]
     },
     "metadata": {
      "needs_background": "light"
     },
     "output_type": "display_data"
    }
   ],
   "source": [
    "%matplotlib inline\n",
    "\n",
    "plt.bar(algorithms, nmis)\n",
    "plt.ylabel(\"Normalized mutual information (%)\", fontsize=14)\n",
    "plt.tick_params(labelsize=14)\n",
    "plt.show()"
   ]
  }
 ],
 "metadata": {
  "kernelspec": {
   "display_name": "Python 3",
   "language": "python",
   "name": "python3"
  },
  "language_info": {
   "codemirror_mode": {
    "name": "ipython",
    "version": 3
   },
   "file_extension": ".py",
   "mimetype": "text/x-python",
   "name": "python",
   "nbconvert_exporter": "python",
   "pygments_lexer": "ipython3",
   "version": "3.8.7"
  },
  "toc": {
   "base_numbering": 1,
   "nav_menu": {},
   "number_sections": true,
   "sideBar": true,
   "skip_h1_title": false,
   "title_cell": "Table of Contents",
   "title_sidebar": "Contents",
   "toc_cell": false,
   "toc_position": {},
   "toc_section_display": true,
   "toc_window_display": false
  }
 },
 "nbformat": 4,
 "nbformat_minor": 2
}
